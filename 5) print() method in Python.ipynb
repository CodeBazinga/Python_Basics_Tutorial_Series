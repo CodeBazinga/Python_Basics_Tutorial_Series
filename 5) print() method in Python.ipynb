{
 "cells": [
  {
   "cell_type": "markdown",
   "metadata": {},
   "source": [
    "### print() - \n",
    "It prints the object/arguments passed to the output device"
   ]
  },
  {
   "cell_type": "code",
   "execution_count": 4,
   "metadata": {},
   "outputs": [
    {
     "name": "stdout",
     "output_type": "stream",
     "text": [
      "Welcome to Python\n",
      "Code Bazinga rocks\n"
     ]
    }
   ],
   "source": [
    "print('Welcome to Python')\n",
    "print(\"Code Bazinga rocks\")"
   ]
  },
  {
   "cell_type": "code",
   "execution_count": 3,
   "metadata": {},
   "outputs": [
    {
     "name": "stdout",
     "output_type": "stream",
     "text": [
      "Chris Nolan is the best director to ever exist\n"
     ]
    }
   ],
   "source": [
    "name = \"Chris Nolan\"\n",
    "print(name, \"is the best director to ever exist\")"
   ]
  },
  {
   "cell_type": "markdown",
   "metadata": {},
   "source": [
    "### Differnt print() formatting methods"
   ]
  },
  {
   "cell_type": "markdown",
   "metadata": {},
   "source": [
    "### 1) f-formatting"
   ]
  },
  {
   "cell_type": "code",
   "execution_count": 5,
   "metadata": {},
   "outputs": [
    {
     "name": "stdout",
     "output_type": "stream",
     "text": [
      "James aged 24 wants to be a Data Analyst\n"
     ]
    }
   ],
   "source": [
    "name = \"James\"\n",
    "age = 24\n",
    "role = \"Data Analyst\"\n",
    "print(f\"{name} aged {age} wants to be a {role}\")"
   ]
  },
  {
   "cell_type": "code",
   "execution_count": 6,
   "metadata": {},
   "outputs": [
    {
     "name": "stdout",
     "output_type": "stream",
     "text": [
      "Data Analyst aged James wants to be a 24\n"
     ]
    }
   ],
   "source": [
    "print(f'{role} aged {name} wants to be a {age}')"
   ]
  },
  {
   "cell_type": "markdown",
   "metadata": {},
   "source": [
    "### 2) Normal usage of print()"
   ]
  },
  {
   "cell_type": "code",
   "execution_count": 7,
   "metadata": {},
   "outputs": [
    {
     "name": "stdout",
     "output_type": "stream",
     "text": [
      "Messi has scored 700 goals in his lifetime\n"
     ]
    }
   ],
   "source": [
    "footballer = \"Messi\"\n",
    "score = 700\n",
    "print(footballer, \"has scored\" ,score,\"goals in his lifetime\")"
   ]
  },
  {
   "cell_type": "markdown",
   "metadata": {},
   "source": [
    "### 3) using format() function"
   ]
  },
  {
   "cell_type": "code",
   "execution_count": 10,
   "metadata": {},
   "outputs": [
    {
     "name": "stdout",
     "output_type": "stream",
     "text": [
      "Covid-19 crosses 9 lakh cases in India\n"
     ]
    }
   ],
   "source": [
    "pandemic = \"Covid-19\"\n",
    "total = \"9\"\n",
    "print(\"{} crosses {} lakh cases in India\".format(pandemic,total))"
   ]
  },
  {
   "cell_type": "code",
   "execution_count": 13,
   "metadata": {},
   "outputs": [
    {
     "name": "stdout",
     "output_type": "stream",
     "text": [
      "James aged 24 wants to be a Data Analyst\n",
      "Data Analyst aged James wants to be a 24\n"
     ]
    }
   ],
   "source": [
    "name = \"James\"\n",
    "age = 24\n",
    "role = \"Data Analyst\"\n",
    "print('{} aged {} wants to be a {}'.format(name,age,role))\n",
    "print('{} aged {} wants to be a {}'.format(role,name,age))"
   ]
  },
  {
   "cell_type": "code",
   "execution_count": 15,
   "metadata": {},
   "outputs": [
    {
     "name": "stdout",
     "output_type": "stream",
     "text": [
      "James aged 24 wants to be a Data Analyst\n"
     ]
    }
   ],
   "source": [
    "print('{1} aged {2} wants to be a {0}'.format(role,name,age))"
   ]
  },
  {
   "cell_type": "code",
   "execution_count": 16,
   "metadata": {},
   "outputs": [
    {
     "name": "stdout",
     "output_type": "stream",
     "text": [
      "James aged 24 wants to be a Data Analyst\n"
     ]
    }
   ],
   "source": [
    "print('{d} aged {r} wants to be a {q}'.format(q=role,d=name,r=age))"
   ]
  },
  {
   "cell_type": "markdown",
   "metadata": {},
   "source": [
    "### Padding and Alignment using format function"
   ]
  },
  {
   "cell_type": "code",
   "execution_count": 22,
   "metadata": {},
   "outputs": [
    {
     "name": "stdout",
     "output_type": "stream",
     "text": [
      "Eminem is the GOAT       \n",
      "        Messi is the GOAT\n",
      "      Goku is GOAT       \n",
      "****Sherlock is GOAT*****\n"
     ]
    }
   ],
   "source": [
    "# left aligned and right padding\n",
    "print(\"{:<25}\".format('Eminem is the GOAT'))\n",
    "# right aligned and left padding\n",
    "print(\"{:>25}\".format('Messi is the GOAT'))\n",
    "# central padding\n",
    "print(\"{:^25}\".format('Goku is GOAT'))\n",
    "# use characters to replace white spacing\n",
    "print(\"{:*^25}\".format('Sherlock is GOAT'))"
   ]
  },
  {
   "cell_type": "markdown",
   "metadata": {},
   "source": [
    "### 4) using %  "
   ]
  },
  {
   "cell_type": "code",
   "execution_count": 26,
   "metadata": {},
   "outputs": [
    {
     "name": "stdout",
     "output_type": "stream",
     "text": [
      "I love you 3000\n",
      "Count on your belief 90.79 times\n"
     ]
    }
   ],
   "source": [
    "print('%s %d'%('I love you',3000))\n",
    "print('%s %.2f %s'%('Count on your belief', 90.7864 ,'times'))"
   ]
  },
  {
   "cell_type": "markdown",
   "metadata": {},
   "source": [
    "### print() arguments\n",
    "\n",
    "<b>1) end -</b> The arumnets passed to the end are printed at end.<br>\n",
    "<b>2) sep -</b> The arumnets passed to the sep is used to separate two variables."
   ]
  },
  {
   "cell_type": "code",
   "execution_count": 27,
   "metadata": {},
   "outputs": [
    {
     "name": "stdout",
     "output_type": "stream",
     "text": [
      "Welcome to Python**"
     ]
    }
   ],
   "source": [
    "a = \"Welcome to\"\n",
    "b = \"Python\"\n",
    "print(a,b,end=\"**\")"
   ]
  },
  {
   "cell_type": "code",
   "execution_count": 28,
   "metadata": {},
   "outputs": [
    {
     "name": "stdout",
     "output_type": "stream",
     "text": [
      "Welcome to**Python\n"
     ]
    }
   ],
   "source": [
    "print(a,b,sep=\"**\")"
   ]
  },
  {
   "cell_type": "code",
   "execution_count": 29,
   "metadata": {},
   "outputs": [
    {
     "name": "stdout",
     "output_type": "stream",
     "text": [
      "Welcome to\n"
     ]
    }
   ],
   "source": [
    "# sep won't work with single variable\n",
    "print(a,sep=\"$$$$$\")"
   ]
  },
  {
   "cell_type": "code",
   "execution_count": 31,
   "metadata": {},
   "outputs": [
    {
     "name": "stdout",
     "output_type": "stream",
     "text": [
      "Welcome to $$$$$"
     ]
    }
   ],
   "source": [
    "print(a,end=\" $$$$$\")"
   ]
  },
  {
   "cell_type": "code",
   "execution_count": 32,
   "metadata": {},
   "outputs": [
    {
     "name": "stdout",
     "output_type": "stream",
     "text": [
      "Welcome to----Python:)"
     ]
    }
   ],
   "source": [
    "print(a,b,sep=\"----\",end=\":)\")"
   ]
  },
  {
   "cell_type": "code",
   "execution_count": null,
   "metadata": {},
   "outputs": [],
   "source": []
  }
 ],
 "metadata": {
  "kernelspec": {
   "display_name": "Python 3",
   "language": "python",
   "name": "python3"
  },
  "language_info": {
   "codemirror_mode": {
    "name": "ipython",
    "version": 3
   },
   "file_extension": ".py",
   "mimetype": "text/x-python",
   "name": "python",
   "nbconvert_exporter": "python",
   "pygments_lexer": "ipython3",
   "version": "3.7.3"
  }
 },
 "nbformat": 4,
 "nbformat_minor": 2
}
