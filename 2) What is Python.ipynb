{
 "cells": [
  {
   "cell_type": "markdown",
   "metadata": {},
   "source": [
    "## Definition:\n",
    "    \n",
    "<b> 1) It is high-level programming language</b><br>\n",
    "Programmers can easily understand or interpret or compile a high level language compared to a machine language. High level language is more user friendly and comprehensible while on the other hand low level programming language is less human readable\n",
    "\n",
    "    \n",
    "<b>2) Python is interpreted Programming language.</b><br>\n",
    "    Both Compiler and Interpreter converts high level programming language into machine code.\n",
    "    code. A compiler will convert the code into machine code before the program \n",
    "    execution but an Interpreter converts code into machine code when the program is run.\n",
    "    C,C++,C#,Java etc are compiled languages while Python, Perl etc are interpreted languages\n",
    "\n",
    "    \n",
    "<b>3) Python is object oriented.</b><br> \n",
    "    We can deploy Python code to use Object oriented concepts like - class,objects, \n",
    "    inheritence,polymorphism etc.\n",
    "\n",
    "<b>4) Python is dynamically typed</b><br>\n",
    "  There is no need to define the \n",
    "data type of a variable in order to use it.\n",
    "\n"
   ]
  },
  {
   "cell_type": "code",
   "execution_count": null,
   "metadata": {},
   "outputs": [],
   "source": []
  },
  {
   "cell_type": "markdown",
   "metadata": {},
   "source": [
    "### Applications of Python\n",
    "1) Data Science and visualizations (pandas, matplotlib,seaborn,plotly,bokeh) <br>\n",
    "2) Machine Learning (sklearn,scipy,numpy)<br>\n",
    "3) Deep Learning (Tensorflow, keras, Pytorch etc)<br>\n",
    "4) Natural Language Processing (nltk,gensim etc)<br>\n",
    "5) Image Processing(opencv, skimage,YOLO,SSD etc)<br>\n",
    "5) GUI Development(Tkinter, Kivy,PyQt etc)<br>\n",
    "6) Web Development (Django,Flask,Pyramid etc)<br>\n",
    "8) Automation <br>\n",
    "9) Web Scraping (Beautiful Soup,Scrapy and Selenium)<br> \n",
    "10) Bitcoin mining\n",
    "and loads more"
   ]
  },
  {
   "cell_type": "code",
   "execution_count": null,
   "metadata": {},
   "outputs": [],
   "source": []
  }
 ],
 "metadata": {
  "kernelspec": {
   "display_name": "Python 3",
   "language": "python",
   "name": "python3"
  },
  "language_info": {
   "codemirror_mode": {
    "name": "ipython",
    "version": 3
   },
   "file_extension": ".py",
   "mimetype": "text/x-python",
   "name": "python",
   "nbconvert_exporter": "python",
   "pygments_lexer": "ipython3",
   "version": "3.7.3"
  }
 },
 "nbformat": 4,
 "nbformat_minor": 2
}
