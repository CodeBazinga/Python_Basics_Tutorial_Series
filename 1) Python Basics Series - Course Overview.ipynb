{
 "cells": [
  {
   "cell_type": "code",
   "execution_count": null,
   "metadata": {},
   "outputs": [],
   "source": []
  },
  {
   "cell_type": "markdown",
   "metadata": {},
   "source": [
    "### Topics\n",
    "<br>\n",
    "<b>\n",
    "1) Variables<br>\n",
    "2) Data Types<br>\n",
    "3) print() and input() methods<br>\n",
    "4) Operators and their types<br>\n",
    "5) Strings and their methods<br>\n",
    "6) Conditional Statemnets - if else<br>\n",
    "7) Loops - for and while loops<br>\n",
    "8) User Defined Functions<br>\n",
    "9) Recursion<br>\n",
    "10) List and their methods<br>\n",
    "11) Tuple and their methods<br>\n",
    "12) Set and their methods<br>\n",
    "13) Dictionary and their methods<br>\n",
    "14) List, Set and Dictionary Comprehensions<br>\n",
    "15) Inbuilt functions in python\n",
    "\n",
    "</b>"
   ]
  },
  {
   "cell_type": "markdown",
   "metadata": {},
   "source": [
    "### Pre-requisites\n",
    "\n",
    "1) IDE (Jupyter, Spyder, Pycharm, VS Code, Atom) or any other IDE of your choice"
   ]
  },
  {
   "cell_type": "code",
   "execution_count": null,
   "metadata": {},
   "outputs": [],
   "source": []
  }
 ],
 "metadata": {
  "kernelspec": {
   "display_name": "Python 3",
   "language": "python",
   "name": "python3"
  },
  "language_info": {
   "codemirror_mode": {
    "name": "ipython",
    "version": 3
   },
   "file_extension": ".py",
   "mimetype": "text/x-python",
   "name": "python",
   "nbconvert_exporter": "python",
   "pygments_lexer": "ipython3",
   "version": "3.7.3"
  }
 },
 "nbformat": 4,
 "nbformat_minor": 2
}
